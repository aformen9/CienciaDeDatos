{
  "cells": [
    {
      "cell_type": "markdown",
      "metadata": {
        "id": "view-in-github",
        "colab_type": "text"
      },
      "source": [
        "<a href=\"https://colab.research.google.com/github/aformen9/CienciaDeDatos/blob/branch01/Copia_de_UCA_ED_2025_PANDAS_Y_NUMPY.ipynb\" target=\"_parent\"><img src=\"https://colab.research.google.com/assets/colab-badge.svg\" alt=\"Open In Colab\"/></a>"
      ]
    },
    {
      "cell_type": "markdown",
      "id": "4010a2ff",
      "metadata": {
        "id": "4010a2ff"
      },
      "source": [
        "# 🐼 Curso Básico de Pandas\n",
        "\n",
        "Este curso está diseñado para introducirte al uso de Pandas, una de las librerías más importantes de Python para análisis de datos."
      ]
    },
    {
      "cell_type": "markdown",
      "id": "f4c2feed",
      "metadata": {
        "id": "f4c2feed"
      },
      "source": [
        "## 🔰 Módulo 1: Introducción a Pandas\n",
        "\n",
        "### Teoría\n",
        "Pandas es una librería de Python diseñada para la manipulación y análisis de datos. Proporciona estructuras como `Series` y `DataFrames`.\n",
        "\n",
        "- `Series`: vectores unidimensionales con índice.\n",
        "- `DataFrame`: tablas bidimensionales.\n",
        "\n",
        "### Objetivo\n",
        "Aprender a importar la librería y crear estructuras básicas."
      ]
    },
    {
      "cell_type": "code",
      "execution_count": null,
      "id": "c85897d6",
      "metadata": {
        "id": "c85897d6",
        "colab": {
          "base_uri": "https://localhost:8080/"
        },
        "outputId": "9a2281fe-af35-471c-ffbd-4f81327acaca"
      },
      "outputs": [
        {
          "output_type": "stream",
          "name": "stdout",
          "text": [
            "a    10\n",
            "b    20\n",
            "c    30\n",
            "  Nombre  Edad\n",
            "0    Ana    22\n",
            "1   Luis    25\n",
            "2  Pedro    20\n"
          ]
        }
      ],
      "source": [
        "import pandas as pd\n",
        "\n",
        "# Crear una Serie\n",
        "serie = pd.Series([10, 20, 30], index=[\"a\", \"b\", \"c\"])\n",
        "serie1 = serie.to_string\n",
        "\n",
        "print(serie1(dtype=False))\n",
        "\n",
        "# Crear un DataFrame\n",
        "data = {\n",
        "    \"Nombre\": [\"Ana\", \"Luis\", \"Pedro\"],\n",
        "    \"Edad\": [22, 25, 20]\n",
        "}\n",
        "df = pd.DataFrame(data)\n",
        "print(df)"
      ]
    },
    {
      "cell_type": "markdown",
      "id": "9ec6dcaf",
      "metadata": {
        "id": "9ec6dcaf"
      },
      "source": [
        "### 🧪 Ejercicios\n",
        "1. Importar pandas como `pd`.\n",
        "2. Crear una `Series` con temperaturas diarias.\n",
        "3. Crear un `DataFrame` con nombre, carrera y nota."
      ]
    },
    {
      "cell_type": "code",
      "source": [
        "# Importar pandas como pd:\n",
        "import pandas as pd"
      ],
      "metadata": {
        "id": "7u__kOV2ZQna"
      },
      "id": "7u__kOV2ZQna",
      "execution_count": null,
      "outputs": []
    },
    {
      "cell_type": "code",
      "source": [
        "# Series de temperatura diara:\n",
        "serie = pd.Series([20, 22, 21, 23, 25, 30, 15], index=[\"Lun\",\"Mar\", \"Mier\", \"Jue\", \"Vie\", \"Sab\", \"Dom\"])\n",
        "serie1 = serie.to_string\n",
        "print(serie1(dtype=False))"
      ],
      "metadata": {
        "id": "PWhUfsg1awuk",
        "outputId": "c45c4c19-c707-4a1d-db1a-14b3f9020ad8",
        "colab": {
          "base_uri": "https://localhost:8080/"
        }
      },
      "id": "PWhUfsg1awuk",
      "execution_count": null,
      "outputs": [
        {
          "output_type": "stream",
          "name": "stdout",
          "text": [
            "Lun     20\n",
            "Mar     22\n",
            "Mier    21\n",
            "Jue     23\n",
            "Vie     25\n",
            "Sab     30\n",
            "Dom     15\n"
          ]
        }
      ]
    },
    {
      "cell_type": "code",
      "source": [
        "# Creacion de DF:\n",
        "data = {\n",
        "    \"Nombre\": [\"Juan\", \"Andres\", \"Agustin\"],\n",
        "    \"Carrera\": [\"CD\", \"CD\", \"CD\"],\n",
        "    \"Nota\": [8, 8, 8]\n",
        "}\n",
        "df = pd.DataFrame(data)\n",
        "print(df)"
      ],
      "metadata": {
        "id": "PlgbJwClaByC",
        "outputId": "8497b62f-857e-4229-8bdf-16ced145e530",
        "colab": {
          "base_uri": "https://localhost:8080/"
        }
      },
      "id": "PlgbJwClaByC",
      "execution_count": null,
      "outputs": [
        {
          "output_type": "stream",
          "name": "stdout",
          "text": [
            "    Nombre Carrera  Nota\n",
            "0     Juan      CD     8\n",
            "1   Andres      CD     8\n",
            "2  Agustin      CD     8\n"
          ]
        }
      ]
    },
    {
      "cell_type": "markdown",
      "id": "4be1a2d6",
      "metadata": {
        "id": "4be1a2d6"
      },
      "source": [
        "## 📊 Módulo 2: Series\n",
        "\n",
        "### Teoría\n",
        "Una `Series` es un arreglo con etiquetas. Permite operaciones vectorizadas y selección por índice.\n",
        "\n",
        "### Objetivo\n",
        "Manejar Series y realizar operaciones básicas."
      ]
    },
    {
      "cell_type": "code",
      "execution_count": null,
      "id": "fdf5e099",
      "metadata": {
        "id": "fdf5e099",
        "colab": {
          "base_uri": "https://localhost:8080/"
        },
        "outputId": "613cf18a-df47-4c2e-8a1e-36a9dc801f7d"
      },
      "outputs": [
        {
          "output_type": "stream",
          "name": "stdout",
          "text": [
            "Media: 28.2\n",
            ">30°C:\n",
            " Mié    31\n",
            "Jue    30\n"
          ]
        }
      ],
      "source": [
        "import pandas as pd\n",
        "temperaturas = pd.Series([25, 28, 31, 30, 27], index=[\"Lun\", \"Mar\", \"Mié\", \"Jue\", \"Vie\"])\n",
        "print(\"Media:\", temperaturas.mean())\n",
        "temperaturas_mayores_30 = temperaturas[temperaturas >= 30]\n",
        "temperaturas1 = temperaturas_mayores_30.to_string\n",
        "print(\">30°C:\\n\", temperaturas1(dtype=False))"
      ]
    },
    {
      "cell_type": "markdown",
      "id": "6b847b71",
      "metadata": {
        "id": "6b847b71"
      },
      "source": [
        "### 🧪 Ejercicios\n",
        "1. Crear una `Series` con precios del dólar.\n",
        "2. Obtener el valor máximo y mínimo.\n",
        "3. Filtrar los valores mayores al promedio."
      ]
    },
    {
      "cell_type": "code",
      "source": [
        "# Serie con precios del usd de la semana:\n",
        "dolar = pd.Series([1190, 1193, 1195, 1191, 1200, 1187, 1190], index = [\"Lun\", \"Mar\", \"Mié\", \"Jue\", \"Vie\", \"Sab\", \"Dom\"])\n",
        "# Precio max y min del dolar:\n",
        "dolar_max = dolar.max()\n",
        "dolar_min = dolar.min()\n",
        "# Filtrar valores mayores al promedio:\n",
        "dolar_prom = dolar.mean()\n",
        "dolar_may_prom = dolar[dolar > dolar_prom]\n",
        "# Printeamos todo:\n",
        "\n",
        "print(f\"Precio USD esta semana: \\n{dolar.to_string(index=True, dtype=False)}\\n\")\n",
        "print(f\"Precio max: {dolar_max}\\n\")\n",
        "print(f\"Precio min {dolar_min}\\n\")\n",
        "print(f\"Valor promedio: {dolar_prom}\\n\")\n",
        "print(f\"Valores mayores al promedio:\\n{dolar_may_prom.to_string(index=True, dtype=False)}\")"
      ],
      "metadata": {
        "id": "SQjYzbVlbRIa",
        "outputId": "e156794f-1760-4eb7-ba74-6ff82f78b309",
        "colab": {
          "base_uri": "https://localhost:8080/"
        }
      },
      "id": "SQjYzbVlbRIa",
      "execution_count": null,
      "outputs": [
        {
          "output_type": "stream",
          "name": "stdout",
          "text": [
            "Precio USD esta semana: \n",
            "Lun    1190\n",
            "Mar    1193\n",
            "Mié    1195\n",
            "Jue    1191\n",
            "Vie    1200\n",
            "Sab    1187\n",
            "Dom    1190\n",
            "\n",
            "Precio max: 1200\n",
            "\n",
            "Precio min 1187\n",
            "\n",
            "Valor promedio: 1192.2857142857142\n",
            "\n",
            "Valores mayores al promedio:\n",
            "Mar    1193\n",
            "Mié    1195\n",
            "Vie    1200\n"
          ]
        }
      ]
    },
    {
      "cell_type": "markdown",
      "id": "d65315bb",
      "metadata": {
        "id": "d65315bb"
      },
      "source": [
        "## 🧱 Módulo 3: DataFrames\n",
        "\n",
        "### Teoría\n",
        "Un `DataFrame` es una tabla de datos con filas y columnas etiquetadas.\n",
        "\n",
        "### Objetivo\n",
        "Acceder y modificar información en DataFrames."
      ]
    },
    {
      "cell_type": "code",
      "execution_count": null,
      "id": "f1c5faad",
      "metadata": {
        "id": "f1c5faad"
      },
      "outputs": [],
      "source": [
        "alumnos = pd.DataFrame({\n",
        "    \"Nombre\": [\"Laura\", \"Nico\", \"Sofía\"],\n",
        "    \"Edad\": [23, 21, 22],\n",
        "    \"Carrera\": [\"Datos\", \"Química\", \"Física\"]\n",
        "})\n",
        "print(alumnos[\"Edad\"])\n",
        "print(alumnos.iloc[1])"
      ]
    },
    {
      "cell_type": "markdown",
      "id": "214844b5",
      "metadata": {
        "id": "214844b5"
      },
      "source": [
        "### 🧪 Ejercicios\n",
        "1. Crear un DataFrame de 5 alumnos.\n",
        "2. Agregar columna \"Aprobado\" (nota ≥ 6).\n",
        "3. Filtrar alumnos aprobados."
      ]
    },
    {
      "cell_type": "code",
      "source": [
        "# DF de 5 alumnos:\n",
        "alumnos = pd.DataFrame({\n",
        "    \"Nombre\": [\"Laura\", \"Nico\", \"Sofía\", \"Juan\", \"Pedro\"],\n",
        "    #\"Edad\": [23, 21, 22, 30, 26],\n",
        "    #\"Carrera\": [\"Datos\", \"Química\", \"Física\", \"LQ\", \"IQ\"],\n",
        "    \"Nota\": [5.5, 8.0, 6.3, 7.9, 3.2]\n",
        "})\n",
        "\n",
        "# Agregamos columna aprobados\n",
        "alumnos[\"Aprobado\"] = alumnos[\"Nota\"] >= 6\n",
        "\n",
        "# Filtramos por aprobados\n",
        "aprobados = alumnos[alumnos[\"Aprobado\"]]\n",
        "\n",
        "# Printeamos\n",
        "#print(\"DataFrame Completo:\\n\", alumnos.to_string(index=False))\n",
        "print(\"\\nAlumnos Aprobados:\\n\", aprobados.to_string(index=False))"
      ],
      "metadata": {
        "colab": {
          "base_uri": "https://localhost:8080/"
        },
        "id": "nvayYBfjehQz",
        "outputId": "8b1d96bf-e358-46c4-947c-135b391a535b"
      },
      "id": "nvayYBfjehQz",
      "execution_count": null,
      "outputs": [
        {
          "output_type": "stream",
          "name": "stdout",
          "text": [
            "\n",
            "Alumnos Aprobados:\n",
            " Nombre  Nota  Aprobado\n",
            "  Nico   8.0      True\n",
            " Sofía   6.3      True\n",
            "  Juan   7.9      True\n"
          ]
        }
      ]
    },
    {
      "cell_type": "markdown",
      "id": "58c653ce",
      "metadata": {
        "id": "58c653ce"
      },
      "source": [
        "## 🧼 Módulo 4: Limpieza de Datos\n",
        "\n",
        "### Teoría\n",
        "En Pandas es común trabajar con datos incompletos o incorrectos. Podemos identificar y limpiar estos datos usando funciones como:\n",
        "\n",
        "- `.isnull()`, `.dropna()`, `.fillna()` para nulos\n",
        "- `.duplicated()`, `.drop_duplicates()` para duplicados\n",
        "- `.astype()` para cambiar tipos de datos\n",
        "- `.loc[]` para seleccionar, filtrar y modificar filas o columnas en un DataFrame.\n",
        "### Objetivo\n",
        "Detectar y corregir problemas comunes en los datos."
      ]
    },
    {
      "cell_type": "code",
      "execution_count": null,
      "id": "6518878a",
      "metadata": {
        "id": "6518878a"
      },
      "outputs": [],
      "source": [
        "df = pd.DataFrame({\n",
        "    \"Nombre\": [\"Ana\", \"Luis\", None, \"Pedro\", \"Luis\"],\n",
        "    \"Edad\": [22, None, 20, 20, None]\n",
        "})\n",
        "\n",
        "print(\"Valores nulos:\\n\", df.isnull())\n",
        "print(\"Sin nulos:\\n\", df.dropna())\n",
        "print(\"Rellenar nulos:\\n\", df.fillna({\"Nombre\": \"Desconocido\", \"Edad\": df[\"Edad\"].mean()}))"
      ]
    },
    {
      "cell_type": "markdown",
      "id": "da6a1b12",
      "metadata": {
        "id": "da6a1b12"
      },
      "source": [
        "### 🧪 Ejercicios\n",
        "1. Crear un DataFrame con valores nulos y duplicados.\n",
        "2. Eliminar duplicados.\n",
        "3. Reemplazar nulos con un valor fijo o promedio."
      ]
    },
    {
      "cell_type": "code",
      "source": [
        "# Creamos DF de autos:\n",
        "autos = {\n",
        "    \"Modelo\": [\"Yaris\", \"Gol Trend\", None, \"Yaris\", None],\n",
        "    \"Precio\": [25000, None, 15000, 50000, None]\n",
        "}\n",
        "\n",
        "df = pd.DataFrame(autos)\n",
        "\n",
        "# Eliminamos duplicados:\n",
        "autos_sin_dup = df.drop_duplicates()\n",
        "\n",
        "# Remplazamos nulos\n",
        "autos_remplazados = df.fillna(\"A consultar\")\n",
        "\n",
        "### PASO EXTRA:\n",
        "\n",
        "# Crear una copia del DataFrame para trabajar\n",
        "catalogo_final = df.copy()\n",
        "\n",
        "# Convertir la columna \"Precio\" a tipo object (texto)\n",
        "catalogo_final[\"Precio\"] = catalogo_final[\"Precio\"].astype(\"object\")\n",
        "\n",
        "# Reemplazar los nulos directamente de manera segura\n",
        "catalogo_final = catalogo_final.fillna({\"Modelo\": \"A consultar\"})\n",
        "\n",
        "# Reemplazar precios solo si el modelo es \"A consultar\"\n",
        "catalogo_final.loc[catalogo_final[\"Modelo\"] == \"A consultar\", \"Precio\"] = \"A consultar\"\n",
        "\n",
        "# Dropeamos valores nulos:\n",
        "catalogo_final = catalogo_final.dropna()\n",
        "\n",
        "###\n",
        "\n",
        "#Printeamos:\n",
        "print(f\"Catalogo sin limpiar:\\n {df}\\n\")\n",
        "print(f\"Catalogo sin duplicados:\\n {autos_sin_dup}\\n\")\n",
        "print(f\"Catalogo casi completo:\\n {autos_remplazados}\\n\")\n",
        "print(f\"Catalogo final:\\n {catalogo_final}\\n\")"
      ],
      "metadata": {
        "colab": {
          "base_uri": "https://localhost:8080/"
        },
        "id": "eMLGq5p3gTKF",
        "outputId": "d87273bd-d55b-48cf-f4c2-8e9806edcb5c"
      },
      "id": "eMLGq5p3gTKF",
      "execution_count": null,
      "outputs": [
        {
          "output_type": "stream",
          "name": "stdout",
          "text": [
            "Catalogo sin limpiar:\n",
            "       Modelo   Precio\n",
            "0      Yaris  25000.0\n",
            "1  Gol Trend      NaN\n",
            "2       None  15000.0\n",
            "3      Yaris  50000.0\n",
            "4       None      NaN\n",
            "\n",
            "Catalogo sin duplicados:\n",
            "       Modelo   Precio\n",
            "0      Yaris  25000.0\n",
            "1  Gol Trend      NaN\n",
            "2       None  15000.0\n",
            "3      Yaris  50000.0\n",
            "4       None      NaN\n",
            "\n",
            "Catalogo casi completo:\n",
            "         Modelo       Precio\n",
            "0        Yaris      25000.0\n",
            "1    Gol Trend  A consultar\n",
            "2  A consultar      15000.0\n",
            "3        Yaris      50000.0\n",
            "4  A consultar  A consultar\n",
            "\n",
            "Catalogo final:\n",
            "         Modelo       Precio\n",
            "0        Yaris      25000.0\n",
            "2  A consultar  A consultar\n",
            "3        Yaris      50000.0\n",
            "4  A consultar  A consultar\n",
            "\n"
          ]
        }
      ]
    },
    {
      "cell_type": "markdown",
      "id": "457b6f7f",
      "metadata": {
        "id": "457b6f7f"
      },
      "source": [
        "## 📐 Módulo 5: Estadísticas y Agrupación\n",
        "\n",
        "### Teoría\n",
        "Pandas permite realizar estadísticas descriptivas y agrupamientos de datos para resumenes analíticos:\n",
        "\n",
        "- `.mean()`, `.sum()`, `.describe()`\n",
        "- `.groupby()` para agrupar por categorías\n",
        "- `.apply()` para aplicar funciones personalizadas\n",
        "\n",
        "### Objetivo\n",
        "Agrupar datos y calcular estadísticas por grupo."
      ]
    },
    {
      "cell_type": "code",
      "execution_count": null,
      "id": "9d2f1ffe",
      "metadata": {
        "id": "9d2f1ffe",
        "colab": {
          "base_uri": "https://localhost:8080/"
        },
        "outputId": "ff506964-2758-4797-d7aa-8568da655be1"
      },
      "outputs": [
        {
          "output_type": "stream",
          "name": "stdout",
          "text": [
            "sex\n",
            "Female    2.833448\n",
            "Male      3.089618\n",
            "Name: tip, dtype: float64\n",
            "day\n",
            "Fri      51.96\n",
            "Sat     260.40\n",
            "Sun     247.39\n",
            "Thur    171.83\n",
            "Name: tip, dtype: float64\n"
          ]
        }
      ],
      "source": [
        "df = pd.read_csv(\"https://raw.githubusercontent.com/mwaskom/seaborn-data/master/tips.csv\")\n",
        "print(df.groupby(\"sex\")[\"tip\"].mean())\n",
        "print(df.groupby(\"day\")[\"tip\"].sum())"
      ]
    },
    {
      "cell_type": "markdown",
      "id": "f01b3117",
      "metadata": {
        "id": "f01b3117"
      },
      "source": [
        "### 🧪 Ejercicios\n",
        "1. Agrupar por día y calcular la propina promedio.\n",
        "2. Agrupar por sexo y total_bill promedio.\n",
        "3. Crear una columna `propina_pct` = tip / total_bill y analizarla."
      ]
    },
    {
      "cell_type": "code",
      "source": [
        "df = pd.read_csv(\"https://raw.githubusercontent.com/mwaskom/seaborn-data/master/tips.csv\")\n",
        "\n",
        "# Agrupar por dia y calcular el tip promedio:\n",
        "agrupar = df.groupby(\"day\")[\"tip\"].mean()\n",
        "# Transformarlo en str para que no printee el dtpy\n",
        "resultado = agrupar.to_string(name=False, dtype=False)\n",
        "print(resultado)\n",
        "\n",
        "# Agrupar x sexo y total bill prom:\n",
        "total_bill = df.groupby(\"sex\")[\"tip\"].sum()\n",
        "total_bill_mean = total_bill.mean()\n",
        "print(\"Propina total promedio:\", total_bill_mean)\n",
        "\n",
        "# Creamos columna propina_pct:\n",
        "df"
      ],
      "metadata": {
        "colab": {
          "base_uri": "https://localhost:8080/"
        },
        "id": "2PlvcxZBml2U",
        "outputId": "ddf979af-3ed5-4bfb-e1d6-127862af3b9f"
      },
      "id": "2PlvcxZBml2U",
      "execution_count": null,
      "outputs": [
        {
          "output_type": "stream",
          "name": "stdout",
          "text": [
            "day\n",
            "Fri     2.734737\n",
            "Sat     2.993103\n",
            "Sun     3.255132\n",
            "Thur    2.771452\n",
            "Propina total promedio: 365.78999999999996\n"
          ]
        }
      ]
    },
    {
      "cell_type": "markdown",
      "id": "942df864",
      "metadata": {
        "id": "942df864"
      },
      "source": [
        "## 🧮 Módulo 6: Operaciones y Transformaciones\n",
        "\n",
        "### Teoría\n",
        "Permite crear nuevas columnas, transformar datos y ordenar registros:\n",
        "\n",
        "- Filtrar filas: `df[df[\"col\"] > valor]`\n",
        "- Crear columnas: `df[\"nueva\"] = ...`\n",
        "- Ordenar: `.sort_values(by=\"col\")`\n",
        "\n",
        "### Objetivo\n",
        "Manipular y transformar los datos."
      ]
    },
    {
      "cell_type": "code",
      "execution_count": null,
      "id": "919e4f32",
      "metadata": {
        "id": "919e4f32"
      },
      "outputs": [],
      "source": [
        "df[\"propina_pct\"] = df[\"tip\"] / df[\"total_bill\"]\n",
        "print(df.sort_values(by=\"propina_pct\", ascending=False).head())"
      ]
    },
    {
      "cell_type": "markdown",
      "id": "e242de18",
      "metadata": {
        "id": "e242de18"
      },
      "source": [
        "### 🧪 Ejercicios\n",
        "1. Crear columna con total de cuenta + propina.\n",
        "2. Filtrar filas donde `size > 3`.\n",
        "3. Ordenar por total_bill descendente."
      ]
    },
    {
      "cell_type": "markdown",
      "id": "887d7a02",
      "metadata": {
        "id": "887d7a02"
      },
      "source": [
        "## 🔗 Módulo 7: Lectura y Escritura de Datos\n",
        "\n",
        "### Teoría\n",
        "Pandas puede leer y escribir múltiples formatos:\n",
        "\n",
        "- `.read_csv()`, `.read_excel()`\n",
        "- `.to_csv()`, `.to_excel()`\n",
        "\n",
        "### Objetivo\n",
        "Importar y exportar datasets desde/hacia archivos."
      ]
    },
    {
      "cell_type": "code",
      "execution_count": null,
      "id": "f02c744b",
      "metadata": {
        "id": "f02c744b"
      },
      "outputs": [],
      "source": [
        "# Leer CSV\n",
        "df = pd.read_csv(\"https://raw.githubusercontent.com/mwaskom/seaborn-data/master/tips.csv\")\n",
        "\n",
        "# Guardar a CSV\n",
        "df.to_csv(\"tips_modificado.csv\", index=False)"
      ]
    },
    {
      "cell_type": "markdown",
      "id": "6fbb359e",
      "metadata": {
        "id": "6fbb359e"
      },
      "source": [
        "### 🧪 Ejercicios\n",
        "1. Leer un archivo CSV local o remoto.\n",
        "2. Guardar un resumen estadístico como nuevo archivo."
      ]
    },
    {
      "cell_type": "markdown",
      "id": "46cfb473",
      "metadata": {
        "id": "46cfb473"
      },
      "source": [
        "## 🧪 Módulo 8: Proyecto Final\n",
        "\n",
        "### Objetivo\n",
        "Aplicar todo lo aprendido a un dataset real.\n",
        "\n",
        "### Actividades\n",
        "1. Cargar el dataset `tips.csv`.\n",
        "2. Limpiar datos si es necesario.\n",
        "3. Calcular estadísticas: promedio, máximos, mínimos.\n",
        "4. Agrupar por día y sexo.\n",
        "5. Crear columnas nuevas como `% propina`.\n",
        "6. Guardar archivo resultado como CSV."
      ]
    },
    {
      "cell_type": "markdown",
      "id": "f63d0d94",
      "metadata": {
        "id": "f63d0d94"
      },
      "source": [
        "# 🔢 Introducción a NumPy\n",
        "\n",
        "NumPy es la librería base para cálculo numérico en Python. Permite crear y manipular arrays (vectores y matrices) de forma eficiente."
      ]
    },
    {
      "cell_type": "markdown",
      "id": "eb9ead15",
      "metadata": {
        "id": "eb9ead15"
      },
      "source": [
        "## 📦 Módulo 1: Arrays y Operaciones Básicas\n",
        "\n",
        "### Teoría\n",
        "- Un `array` de NumPy es similar a una lista, pero permite operaciones vectorizadas.\n",
        "- Soporta arrays de cualquier dimensión.\n",
        "\n",
        "### Objetivo\n",
        "Crear arrays y aplicar operaciones matemáticas sobre ellos."
      ]
    },
    {
      "cell_type": "code",
      "execution_count": null,
      "id": "8483db4b",
      "metadata": {
        "id": "8483db4b"
      },
      "outputs": [],
      "source": [
        "import numpy as np\n",
        "\n",
        "# Crear un array unidimensional\n",
        "a = np.array([1, 2, 3, 4])\n",
        "print(\"Array a:\", a)\n",
        "print(\"a + 2:\", a + 2)\n",
        "print(\"a * 3:\", a * 3)\n",
        "\n",
        "# Crear array bidimensional\n",
        "b = np.array([[1, 2], [3, 4]])\n",
        "print(\"Matriz b:\\n\", b)\n",
        "print(\"Transpuesta:\\n\", b.T)"
      ]
    },
    {
      "cell_type": "markdown",
      "id": "236d7908",
      "metadata": {
        "id": "236d7908"
      },
      "source": [
        "### 🧪 Ejercicios\n",
        "1. Crear un array con valores del 0 al 9.\n",
        "2. Elevar al cuadrado cada elemento.\n",
        "3. Crear una matriz 3x3 de números aleatorios enteros entre 1 y 10."
      ]
    },
    {
      "cell_type": "markdown",
      "id": "ee531443",
      "metadata": {
        "id": "ee531443"
      },
      "source": [
        "## 🔄 Módulo 2: Indexado y Slicing\n",
        "\n",
        "### Teoría\n",
        "Permite acceder a subconjuntos de datos usando índices o condiciones lógicas.\n",
        "\n",
        "### Objetivo\n",
        "Indexar elementos y subarrays."
      ]
    },
    {
      "cell_type": "code",
      "execution_count": null,
      "id": "1af10d2b",
      "metadata": {
        "id": "1af10d2b"
      },
      "outputs": [],
      "source": [
        "arr = np.array([10, 20, 30, 40, 50])\n",
        "print(\"Tercer elemento:\", arr[2])\n",
        "print(\"Últimos 3:\", arr[-3:])\n",
        "print(\"Elementos > 25:\", arr[arr > 25])"
      ]
    },
    {
      "cell_type": "markdown",
      "id": "893f11e3",
      "metadata": {
        "id": "893f11e3"
      },
      "source": [
        "### 🧪 Ejercicios\n",
        "1. Crear un array con los múltiplos de 3 entre 3 y 30.\n",
        "2. Seleccionar los mayores a 15.\n",
        "3. Reemplazar los valores menores a 10 por 0."
      ]
    },
    {
      "cell_type": "markdown",
      "id": "0d8df448",
      "metadata": {
        "id": "0d8df448"
      },
      "source": [
        "## 🧮 Módulo 3: Operaciones Numéricas y Estadísticas\n",
        "\n",
        "### Teoría\n",
        "NumPy permite operaciones como:\n",
        "- Suma, promedio, máximo, desviación estándar\n",
        "- Funciones matemáticas: `np.sin`, `np.exp`, `np.sqrt`\n",
        "\n",
        "### Objetivo\n",
        "Aplicar funciones matemáticas y estadísticas."
      ]
    },
    {
      "cell_type": "code",
      "execution_count": null,
      "id": "a01e577b",
      "metadata": {
        "id": "a01e577b"
      },
      "outputs": [],
      "source": [
        "x = np.array([1, 2, 3, 4, 5])\n",
        "print(\"Suma:\", np.sum(x))\n",
        "print(\"Promedio:\", np.mean(x))\n",
        "print(\"Desviación estándar:\", np.std(x))\n",
        "print(\"Raíces cuadradas:\", np.sqrt(x))"
      ]
    },
    {
      "cell_type": "markdown",
      "id": "9aded221",
      "metadata": {
        "id": "9aded221"
      },
      "source": [
        "### 🧪 Ejercicios\n",
        "1. Calcular el promedio de un array de notas.\n",
        "2. Calcular la diferencia entre cada valor y la media.\n",
        "3. Aplicar `np.log` a un array de valores positivos."
      ]
    }
  ],
  "metadata": {
    "colab": {
      "provenance": [],
      "include_colab_link": true
    },
    "language_info": {
      "name": "python"
    },
    "kernelspec": {
      "name": "python3",
      "display_name": "Python 3"
    }
  },
  "nbformat": 4,
  "nbformat_minor": 5
}